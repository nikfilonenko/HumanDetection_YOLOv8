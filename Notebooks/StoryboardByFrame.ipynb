{
 "cells": [
  {
   "cell_type": "markdown",
   "source": [
    "# Storyboarding videos into frames"
   ],
   "metadata": {
    "collapsed": false
   }
  },
  {
   "cell_type": "markdown",
   "source": [
    "### 1. Importing the necessary libraries"
   ],
   "metadata": {
    "collapsed": false
   }
  },
  {
   "cell_type": "code",
   "execution_count": null,
   "outputs": [],
   "source": [
    "import cv2\n",
    "import os\n",
    "from tqdm import tqdm"
   ],
   "metadata": {
    "collapsed": false
   }
  },
  {
   "cell_type": "markdown",
   "source": [
    "### 2. Create the decisionFrames() function, where the main logic of the video storyboard will be"
   ],
   "metadata": {
    "collapsed": false
   }
  },
  {
   "cell_type": "code",
   "execution_count": null,
   "outputs": [],
   "source": [
    "def decisionFrames(video_paths, video_names):\n",
    "    frame_dir = \"Data/Video&Frames/Frames\"\n",
    "    if not os.path.exists(frame_dir):\n",
    "        os.makedirs(frame_dir)\n",
    "\n",
    "    for i, video_path in enumerate(video_paths):\n",
    "        video_frame_dir = os.path.join(frame_dir, video_names[i])\n",
    "        if not os.path.exists(video_frame_dir):\n",
    "            os.makedirs(video_frame_dir)\n",
    "\n",
    "        cap = cv2.VideoCapture(video_path)\n",
    "\n",
    "        num_frames = int(cap.get(cv2.CAP_PROP_FRAME_COUNT))\n",
    "\n",
    "        frame_index = 0\n",
    "\n",
    "        for j in range(num_frames):\n",
    "            ret, frame = cap.read()\n",
    "\n",
    "            if ret:\n",
    "                if j == frame_index:\n",
    "                    frame_path = os.path.join(video_frame_dir, f\"{video_names[i]}_{j}.jpg\")\n",
    "                    cv2.imwrite(frame_path, frame)\n",
    "                    frame_index += 180\n",
    "            else:\n",
    "                break\n",
    "\n",
    "        cap.release()"
   ],
   "metadata": {
    "collapsed": false
   }
  },
  {
   "cell_type": "markdown",
   "source": [
    "### 3. As arguments, we will pass lists with paths where the video is located"
   ],
   "metadata": {
    "collapsed": false
   }
  },
  {
   "cell_type": "code",
   "execution_count": null,
   "outputs": [],
   "source": [
    "paths = [\"Data/Video&Frames/Videos/\"]\n",
    "names = [\"SaintPetersburg-Mga\"]\n",
    "\n",
    "result = tqdm(desc=\"Processing video\", total=len(paths))\n",
    "for path, name in zip(paths, names):\n",
    "    decisionFrames([path], [name])\n",
    "    result.update(1)"
   ],
   "metadata": {
    "collapsed": false
   }
  },
  {
   "cell_type": "markdown",
   "source": [
    "### 4. The number of cut frames in the folder"
   ],
   "metadata": {
    "collapsed": false
   }
  },
  {
   "cell_type": "code",
   "execution_count": null,
   "outputs": [],
   "source": [
    "directory = \"data/images/frames/Saint-Petersburg-Mga\"\n",
    "file_count = len(os.listdir(directory))\n",
    "\n",
    "print(\"Number of files in a folder:\", file_count)"
   ],
   "metadata": {
    "collapsed": false
   }
  },
  {
   "cell_type": "markdown",
   "source": [],
   "metadata": {
    "collapsed": false
   }
  }
 ],
 "metadata": {
  "kernelspec": {
   "display_name": "Python 3",
   "language": "python",
   "name": "python3"
  },
  "language_info": {
   "codemirror_mode": {
    "name": "ipython",
    "version": 2
   },
   "file_extension": ".py",
   "mimetype": "text/x-python",
   "name": "python",
   "nbconvert_exporter": "python",
   "pygments_lexer": "ipython2",
   "version": "2.7.6"
  }
 },
 "nbformat": 4,
 "nbformat_minor": 0
}
