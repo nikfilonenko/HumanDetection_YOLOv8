{
 "cells": [
  {
   "cell_type": "markdown",
   "source": [
    "# Storyboarding videos into frames"
   ],
   "metadata": {
    "collapsed": false
   }
  },
  {
   "cell_type": "markdown",
   "source": [
    "### 1. Importing the necessary libraries"
   ],
   "metadata": {
    "collapsed": false
   }
  },
  {
   "cell_type": "code",
   "execution_count": 6,
   "outputs": [],
   "source": [
    "import cv2\n",
    "import os\n",
    "from tqdm import tqdm"
   ],
   "metadata": {
    "collapsed": false
   }
  },
  {
   "cell_type": "markdown",
   "source": [
    "### 2. Create the decisionFrames() function, where the main logic of the video storyboard will be"
   ],
   "metadata": {
    "collapsed": false
   }
  },
  {
   "cell_type": "code",
   "execution_count": 11,
   "outputs": [],
   "source": [
    "def decisionFrames(video_paths, video_names):\n",
    "    frame_dir = \"../../HumanDetection_YOLOv8/Data/Video&Frames/Frames\"\n",
    "    if not os.path.exists(frame_dir):\n",
    "        os.makedirs(frame_dir)\n",
    "\n",
    "    for i, video_path in enumerate(video_paths):\n",
    "        cap = cv2.VideoCapture(video_path)\n",
    "\n",
    "        num_frames = int(cap.get(cv2.CAP_PROP_FRAME_COUNT))\n",
    "\n",
    "        frame_index = 0\n",
    "\n",
    "        for j in range(num_frames):\n",
    "            ret, frame = cap.read()\n",
    "\n",
    "            if ret:\n",
    "                if j == frame_index:\n",
    "                    frame_path = os.path.join(frame_dir, f\"{video_names[i]}_{j}.jpg\")\n",
    "                    cv2.imwrite(frame_path, frame)\n",
    "                    frame_index += 180\n",
    "            else:\n",
    "                break\n",
    "\n",
    "        cap.release()"
   ],
   "metadata": {
    "collapsed": false
   }
  },
  {
   "cell_type": "markdown",
   "source": [
    "### 3. As arguments, we will pass lists with paths where the video is located"
   ],
   "metadata": {
    "collapsed": false
   }
  },
  {
   "cell_type": "code",
   "execution_count": 22,
   "outputs": [
    {
     "name": "stderr",
     "output_type": "stream",
     "text": [
      "Processing video: 100%|██████████| 1/1 [02:09<00:00, 129.71s/it]\n",
      "Processing video: 100%|██████████| 1/1 [00:14<00:00, 14.28s/it]"
     ]
    }
   ],
   "source": [
    "paths = [\"../../HumanDetection_YOLOv8/Data/Video&Frames/Videos/6.mov\"]\n",
    "names = [\"video13\"]\n",
    "\n",
    "result = tqdm(desc=\"Processing video\", total=len(paths))\n",
    "for path, name in zip(paths, names):\n",
    "    decisionFrames([path], [name])\n",
    "    result.update(1)"
   ],
   "metadata": {
    "collapsed": false
   }
  },
  {
   "cell_type": "markdown",
   "source": [
    "### 4. The number of cut frames in the folder"
   ],
   "metadata": {
    "collapsed": false
   }
  },
  {
   "cell_type": "code",
   "execution_count": 7,
   "outputs": [
    {
     "name": "stdout",
     "output_type": "stream",
     "text": [
      "Number of files in a folder: 300\n"
     ]
    }
   ],
   "source": [
    "directory = \"../../HumanDetection_YOLOv8/Data/Video&Frames/Frames\"\n",
    "file_count = len(os.listdir(directory))\n",
    "\n",
    "print(\"Number of files in a folder:\", file_count)"
   ],
   "metadata": {
    "collapsed": false
   }
  }
 ],
 "metadata": {
  "kernelspec": {
   "display_name": "Python 3",
   "language": "python",
   "name": "python3"
  },
  "language_info": {
   "codemirror_mode": {
    "name": "ipython",
    "version": 2
   },
   "file_extension": ".py",
   "mimetype": "text/x-python",
   "name": "python",
   "nbconvert_exporter": "python",
   "pygments_lexer": "ipython2",
   "version": "2.7.6"
  }
 },
 "nbformat": 4,
 "nbformat_minor": 0
}
